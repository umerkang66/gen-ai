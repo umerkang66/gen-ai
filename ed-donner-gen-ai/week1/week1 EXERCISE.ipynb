{
 "cells": [
  {
   "cell_type": "markdown",
   "id": "fe12c203-e6a6-452c-a655-afb8a03a4ff5",
   "metadata": {},
   "source": [
    "# End of week 1 exercise\n",
    "\n",
    "To demonstrate your familiarity with OpenAI API, and also Ollama, build a tool that takes a technical question,  \n",
    "and responds with an explanation. This is a tool that you will be able to use yourself during the course!\n"
   ]
  },
  {
   "cell_type": "code",
   "execution_count": 13,
   "id": "c1070317-3ed9-4659-abe3-828943230e03",
   "metadata": {},
   "outputs": [],
   "source": [
    "import os\n",
    "from dotenv import load_dotenv\n",
    "from openai import OpenAI\n",
    "from IPython.display import Markdown, display, clear_output"
   ]
  },
  {
   "cell_type": "code",
   "execution_count": 2,
   "id": "4a456906-915a-4bfd-bb9d-57e505c5093f",
   "metadata": {},
   "outputs": [],
   "source": [
    "# constants\n",
    "MODEL_GPT = \"gpt-4o-mini\"\n",
    "MODEL_LLAMA = \"llama3.2\""
   ]
  },
  {
   "cell_type": "code",
   "execution_count": 3,
   "id": "a8d7923c-5f28-4c30-8556-342d7c8497c1",
   "metadata": {},
   "outputs": [],
   "source": [
    "# set up environment\n",
    "load_dotenv()\n",
    "api_key = os.getenv(\"OPENAI_API_KEY\")"
   ]
  },
  {
   "cell_type": "code",
   "execution_count": 4,
   "id": "a7263bf8",
   "metadata": {},
   "outputs": [],
   "source": [
    "openai = OpenAI()"
   ]
  },
  {
   "cell_type": "code",
   "execution_count": 5,
   "id": "3f0d0137-52b0-47a8-81a8-11a90a010798",
   "metadata": {},
   "outputs": [],
   "source": [
    "# here is the question; type over this to ask something new\n",
    "\n",
    "system_prompt = \"you are a helpful and witty, and funny teacher that answer any question that user will ask you\"\n",
    "\n",
    "question = \"\"\"\n",
    "Please explain what this code does and why:\n",
    "yield from {book.get(\"author\") for book in books if book.get(\"author\")}\n",
    "\"\"\""
   ]
  },
  {
   "cell_type": "code",
   "execution_count": 6,
   "id": "60ce7000-a4a5-4cce-a261-e75ef45063b4",
   "metadata": {},
   "outputs": [],
   "source": [
    "# Get gpt-4o-mini to answer, with streaming\n",
    "messages = [\n",
    "    {\"role\": \"system\", \"content\": system_prompt},\n",
    "    {\"role\": \"user\", \"content\": question},\n",
    "]"
   ]
  },
  {
   "cell_type": "code",
   "execution_count": 14,
   "id": "8f7c8ea8-4082-4ad0-8751-3301adcf6538",
   "metadata": {},
   "outputs": [
    {
     "data": {
      "text/markdown": [
       "Ah, what a delightful little snippet of Python you've got here! Let’s break it down step by step, shall we?\n",
       "\n",
       "The code you've shared is written in a generator expression and uses the `yield from` syntax. Here’s what’s happening:\n",
       "\n",
       "1. **Set Comprehension**: The part `{book.get(\"author\") for book in books if book.get(\"author\")}` is a set comprehension. It creates a set of unique authors from a list (or any iterable) named `books`. It goes through each `book` in `books` and calls `book.get(\"author\")` for each one.\n",
       "\n",
       "2. **Filtering Out None Values**: The `if book.get(\"author\")` condition ensures that only books with a valid author are included in the final set. If a book doesn’t have an author (i.e., `book.get(\"author\")` returns `None` or an empty string), it gets filtered out. This is like having a bouncer at a club, ensuring only the cool authors get in.\n",
       "\n",
       "3. **The `yield from` Statement**: The surrounding `yield from` makes this a generator function that will yield each author in the set one by one when the generator is iteratively consumed. Think of it as a way to pass out author names like snacks at a party—everyone gets to grab a handful one at a time!\n",
       "\n",
       "### Summary\n",
       "To sum it up: This line of code collects the authors from a list of books, filters out any that are missing, and then yields each unique author one by one when called.\n",
       "\n",
       "Make sure you don't have a \"drama-book\" at your party, though—those authors can get a bit cranky if they feel left out!"
      ],
      "text/plain": [
       "<IPython.core.display.Markdown object>"
      ]
     },
     "metadata": {},
     "output_type": "display_data"
    }
   ],
   "source": [
    "# Get Llama 3.2 to answer\n",
    "response = openai.chat.completions.create(\n",
    "    model=MODEL_GPT, messages=messages, stream=True\n",
    ")\n",
    "\n",
    "# Collect the streamed text\n",
    "full_response = \"\"\n",
    "for chunk in response:\n",
    "    if len(chunk.choices) > 0:\n",
    "        delta = chunk.choices[0].delta\n",
    "        if delta and delta.content:\n",
    "            full_response += delta.content\n",
    "            clear_output(wait=True)\n",
    "            display(Markdown(full_response))  # refresh Markdown progressively"
   ]
  },
  {
   "cell_type": "code",
   "execution_count": 17,
   "id": "d7e31cb2",
   "metadata": {},
   "outputs": [],
   "source": [
    "llama = OpenAI(\n",
    "    base_url=\"http://localhost:11434/v1\",  # Ollama's OpenAI-compatible endpoint\n",
    "    api_key=\"ollama\",  # can be anything, Ollama ignores it\n",
    ")"
   ]
  },
  {
   "cell_type": "code",
   "execution_count": 18,
   "id": "264e398c",
   "metadata": {},
   "outputs": [
    {
     "data": {
      "text/markdown": [
       "My curious student! \n",
       "\n",
       "This piece of code is written in Python, which is a programming language. Specifically, it's using a feature called \"generators\" to achieve something quite neat.\n",
       "\n",
       "So, let's break it down:\n",
       "\n",
       "* `yield from`: This keyword is used to delegate the creation of a generator to another iterable (like a list or tuple).\n",
       "* `{... for book in books if book.get(\"author\")}`: This is an iterator expression, which is like a loop that iterates over an iterable. It's saying \"take each item `book` from `books`, and only include it if its corresponding key `'author'` exists\".\n",
       "\n",
       "Now, let's put it together:\n",
       "\n",
       "`yield from {...}` essentially says \"here, create a generator that yields each element from the set inside the brackets\". The `{... for book in books if book.get(\"author\")}` part takes `books`, checks which items have an existent `'author'` key, and collects those into a set. Then it delegates yielding this set to the inner generator.\n",
       "\n",
       "**But why do we need all this?**\n",
       "\n",
       "Well, think of a library (`library` is like any collection of books). You want to collect author names from each book so you can create a list of authors across your whole collection. \n",
       "\n",
       "- If `books` is an existing list and each book has an `'author'` key:\n",
       "  ```python\n",
       "books = [{\"title\": \"The Lion King\"}, {\"author\": \"Bamba Matshaba, Zanele Mbuyane\", ...},\n",
       "       {\"title\": \"Pride Street\"}]\n",
       "```\n",
       "- The iterator expression can gather just the author names:\n",
       "\n",
       "```python\n",
       "authors = yield from {book.get(\"author\") for book in books if book.get(\"author\")}\n",
       "# Output:\n",
       "# [\n",
       "#     'Bamba Matshaba, Zanele Mbuyane', \n",
       "#     # ... other authors ...\n",
       "# ]\n",
       "```\n",
       "\n",
       "So, the entire expression is like gathering names of people who wrote books across your library's collection! Now you can use this generated authors list for any purpose.\n",
       "\n",
       "How about a real example? Sometimes we may want to know if an item has a specific key and then iterate over items that have it. Here’s how a code snippet might work:\n",
       "\n",
       "```python\n",
       "def findAuthors(books):\n",
       "    authors = yield from {book.get(\"author\") for book in books if book.get(\"author\")}\n",
       "    return authors\n",
       "\n",
       "books = [\n",
       "    {\"title\": \"Harry Potter 1\", \"author\": \"J.K Rowling\"},\n",
       "    {\"title\": \"The Lion King\", \"author\": None},\n",
       "    {\"title\": \"Pride Street\", \"author\": \"Zanele Mbuyane\"}\n",
       "]\n",
       "for author in findAuthors(books):\n",
       "    print(author) # Outputs:\n",
       "# [\n",
       "#   'J,K Rowling', \n",
       "#   'Zanele Mbuyane' #\n",
       "# ]\n",
       "```\n",
       "Hope this breaks down how the yield from expression and set collections work! Do you have more code snippets that can use help with understanding something?"
      ],
      "text/plain": [
       "<IPython.core.display.Markdown object>"
      ]
     },
     "metadata": {},
     "output_type": "display_data"
    }
   ],
   "source": [
    "# Get Llama 3.2 to answer\n",
    "response = llama.chat.completions.create(\n",
    "    model=MODEL_LLAMA, messages=messages, stream=True\n",
    ")\n",
    "\n",
    "# Collect the streamed text\n",
    "full_response = \"\"\n",
    "for chunk in response:\n",
    "    if len(chunk.choices) > 0:\n",
    "        delta = chunk.choices[0].delta\n",
    "        if delta and delta.content:\n",
    "            full_response += delta.content\n",
    "            clear_output(wait=True)\n",
    "            display(Markdown(full_response))  # refresh Markdown progressively"
   ]
  }
 ],
 "metadata": {
  "kernelspec": {
   "display_name": "Python 3",
   "language": "python",
   "name": "python3"
  },
  "language_info": {
   "codemirror_mode": {
    "name": "ipython",
    "version": 3
   },
   "file_extension": ".py",
   "mimetype": "text/x-python",
   "name": "python",
   "nbconvert_exporter": "python",
   "pygments_lexer": "ipython3",
   "version": "3.11.13"
  }
 },
 "nbformat": 4,
 "nbformat_minor": 5
}
