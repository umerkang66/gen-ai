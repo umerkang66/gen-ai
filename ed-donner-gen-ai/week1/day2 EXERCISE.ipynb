{
 "cells": [
  {
   "cell_type": "markdown",
   "id": "d15d8294-3328-4e07-ad16-8a03e9bbfdb9",
   "metadata": {},
   "source": [
    "## Welcome to your first assignment!\n",
    "\n",
    "Instructions are below. Please give this a try, and look in the solutions folder if you get stuck (or feel free to ask me!)\n"
   ]
  },
  {
   "cell_type": "markdown",
   "id": "6e9fa1fc-eac5-4d1d-9be4-541b3f2b3458",
   "metadata": {},
   "source": [
    "### HOMEWORK EXERCISE ASSIGNMENT\n",
    "\n",
    "Upgrade the day 1 project to summarize a webpage to use an Open Source model running locally via Ollama rather than OpenAI\n",
    "\n",
    "You'll be able to use this technique for all subsequent projects if you'd prefer not to use paid APIs.\n",
    "\n",
    "**Benefits:**\n",
    "\n",
    "1. No API charges - open-source\n",
    "2. Data doesn't leave your box\n",
    "\n",
    "**Disadvantages:**\n",
    "\n",
    "1. Significantly less power than Frontier Model\n",
    "\n",
    "### Recap on installation of Ollama\n",
    "\n",
    "Simply visit [ollama.com](https://ollama.com) and install!\n",
    "\n",
    "Once complete, the ollama server should already be running locally.  \n",
    "If you visit:  \n",
    "[http://localhost:11434/](http://localhost:11434/)\n",
    "\n",
    "You should see the message `Ollama is running`.\n",
    "\n",
    "If not, bring up a new Terminal (Mac) or Powershell (Windows) and enter `ollama serve`  \n",
    "And in another Terminal (Mac) or Powershell (Windows), enter `ollama pull llama3.2`  \n",
    "Then try [http://localhost:11434/](http://localhost:11434/) again.\n",
    "\n",
    "If Ollama is slow on your machine, try using `llama3.2:1b` as an alternative. Run `ollama pull llama3.2:1b` from a Terminal or Powershell, and change the code below from `MODEL = \"llama3.2\"` to `MODEL = \"llama3.2:1b\"`\n"
   ]
  },
  {
   "cell_type": "code",
   "execution_count": 9,
   "id": "4e2a9393-7767-488e-a8bf-27c12dca35bd",
   "metadata": {},
   "outputs": [],
   "source": [
    "import requests\n",
    "from bs4 import BeautifulSoup\n",
    "from IPython.display import Markdown, display"
   ]
  },
  {
   "cell_type": "code",
   "execution_count": 10,
   "id": "29ddd15d-a3c5-4f4e-a678-873f56162724",
   "metadata": {},
   "outputs": [],
   "source": [
    "# Constants\n",
    "OLLAMA_API = \"http://localhost:11434/api/chat\"\n",
    "HEADERS = {\"Content-Type\": \"application/json\"}\n",
    "MODEL = \"llama3.2\""
   ]
  },
  {
   "cell_type": "code",
   "execution_count": 11,
   "id": "dac0a679-599c-441f-9bf2-ddc73d35b940",
   "metadata": {},
   "outputs": [],
   "source": [
    "# Create a messages list using the same format that we used for OpenAI\n",
    "messages = [\n",
    "    {\n",
    "        \"role\": \"user\",\n",
    "        \"content\": \"Describe some of the business applications of Generative AI. Tell me top 5\",\n",
    "    }\n",
    "]"
   ]
  },
  {
   "cell_type": "code",
   "execution_count": 12,
   "id": "7bb9c624-14f0-4945-a719-8ddb64f66f47",
   "metadata": {},
   "outputs": [],
   "source": [
    "payload = {\"model\": MODEL, \"messages\": messages, \"stream\": False}"
   ]
  },
  {
   "cell_type": "code",
   "execution_count": 13,
   "id": "42b9f644-522d-4e05-a691-56e7658c0ea9",
   "metadata": {},
   "outputs": [
    {
     "data": {
      "text/markdown": [
       "Generative AI (Artificial Intelligence) has numerous business applications across various industries, transforming the way businesses operate and create value. Here are five top business applications of Generative AI:\n",
       "\n",
       "1. **Content Generation**: Generative AI can generate high-quality content such as text, images, videos, and music at an unprecedented scale and speed. This technology is particularly useful for:\n",
       " * Blogging and publishing: Automated content creation for blogs, news articles, and social media platforms.\n",
       " * Marketing: Personalized product descriptions, ad copy, and marketing materials.\n",
       " * Entertainment: Music composition, film scores, and visual effects.\n",
       "\n",
       "Companies like WordLift, Content Blossom, and Lumen5 are already using Generative AI to create engaging content.\n",
       "\n",
       "2. **Product Design and Development**: Generative AI can assist in the design and development of new products by:\n",
       " * Designing prototypes: AI-generated 3D models and simulations for product prototyping.\n",
       " * Developing new materials: Predictive analytics for material discovery and optimization.\n",
       " * Optimizing manufacturing processes: AI-driven process optimization for reduced costs and increased efficiency.\n",
       "\n",
       "Companies like Autodesk, Siemens, and GE Appliances are leveraging Generative AI to accelerate their product development pipelines.\n",
       "\n",
       "3. **Predictive Maintenance**: Generative AI can analyze large amounts of data from sensors and equipment to predict maintenance needs and prevent failures:\n",
       " * Predictive modeling: AI-driven predictive models for equipment failure prediction.\n",
       " * Anomaly detection: Automated anomaly detection for real-time monitoring.\n",
       " * Recommendations: Data-driven recommendations for maintenance schedules.\n",
       "\n",
       "Companies like Siemens, GE Digital, and Honeywell are using Generative AI to optimize their maintenance processes.\n",
       "\n",
       "4. **Customer Service Chatbots**: Generative AI can generate conversational responses for chatbots that simulate human-like interactions:\n",
       " * Intent analysis: AI-powered intent analysis for personalized customer service.\n",
       " * Sentiment analysis: Automated sentiment analysis for improved customer engagement.\n",
       " * Contextual understanding: Conversational AI that understands context and provides accurate responses.\n",
       "\n",
       "Companies like IBM Watson, Microsoft Bot Framework, and Dialogflow are using Generative AI to create intelligent chatbots.\n",
       "\n",
       "5. **Data Science and Analytics**: Generative AI can assist in data science and analytics by:\n",
       " * Data generation: AI-generated synthetic data for testing and validation.\n",
       " * Feature engineering: Automated feature extraction from large datasets.\n",
       " * Model selection: Recommendations for the best machine learning models for a given problem.\n",
       "\n",
       "Companies like Google, Facebook, and LinkedIn are using Generative AI to accelerate their data analysis and insights pipelines."
      ],
      "text/plain": [
       "<IPython.core.display.Markdown object>"
      ]
     },
     "metadata": {},
     "output_type": "display_data"
    }
   ],
   "source": [
    "# If this doesn't work for any reason, try the 2 versions in the following cells\n",
    "# And double check the instructions in the 'Recap on installation of Ollama' at the top of this lab\n",
    "# And if none of that works - contact me!\n",
    "\n",
    "response = requests.post(OLLAMA_API, json=payload, headers=HEADERS)\n",
    "display(Markdown(response.json()[\"message\"][\"content\"]))"
   ]
  },
  {
   "cell_type": "markdown",
   "id": "6a021f13-d6a1-4b96-8e18-4eae49d876fe",
   "metadata": {},
   "source": [
    "## Introducing the ollama package\n",
    "\n",
    "And now we'll do the same thing, but using the elegant ollama python package instead of a direct HTTP call.\n",
    "\n",
    "Under the hood, it's making the same call as above to the ollama server running at localhost:11434\n"
   ]
  },
  {
   "cell_type": "code",
   "execution_count": 14,
   "id": "7745b9c4-57dc-4867-9180-61fa5db55eb8",
   "metadata": {},
   "outputs": [
    {
     "data": {
      "text/markdown": [
       "Here are five top business applications of Generative AI:\n",
       "\n",
       "1. **Content Generation and Personalization**: Generative AI can be used to create high-quality, personalized content such as blog posts, social media posts, product descriptions, and more. This can help businesses save time and resources on content creation while improving engagement and conversion rates.\n",
       "\n",
       "2. **Automated Customer Service Chatbots**: Generative AI-powered chatbots can analyze customer inquiries and respond with relevant, personalized answers. This can improve the overall customer experience, reduce response times, and increase sales conversions.\n",
       "\n",
       "3. **Product Design and Development**: Generative AI can be used to design new product prototypes, visualize product concepts, and even generate 3D models. This can help businesses accelerate product development, reduce costs, and improve product quality.\n",
       "\n",
       "4. **Marketing Campaign Optimization**: Generative AI can analyze vast amounts of marketing data, including customer behavior, demographics, and advertising performance. This can help businesses identify top-performing campaigns, optimize ad targeting, and predict future campaign success.\n",
       "\n",
       "5. **Image and Video Generation for Marketing and Advertising**: Generative AI can create high-quality images and videos that are tailored to specific marketing and advertising campaigns. This can help businesses save time and resources on visual content creation while improving brand consistency and messaging across different channels.\n",
       "\n",
       "These applications showcase the vast potential of Generative AI in transforming various business operations, from content creation to product development, and customer service to marketing campaign optimization."
      ],
      "text/plain": [
       "<IPython.core.display.Markdown object>"
      ]
     },
     "metadata": {},
     "output_type": "display_data"
    }
   ],
   "source": [
    "import ollama\n",
    "\n",
    "response = ollama.chat(model=MODEL, messages=messages)\n",
    "display(Markdown(response[\"message\"][\"content\"]))"
   ]
  },
  {
   "cell_type": "markdown",
   "id": "a4704e10-f5fb-4c15-a935-f046c06fb13d",
   "metadata": {},
   "source": [
    "### Alternative approach - using OpenAI python library to connect to Ollama\n"
   ]
  },
  {
   "cell_type": "code",
   "execution_count": 15,
   "id": "23057e00-b6fc-4678-93a9-6b31cb704bff",
   "metadata": {},
   "outputs": [
    {
     "data": {
      "text/markdown": [
       "Generative AI has numerous business applications across various industries, and here are five top examples:\n",
       "\n",
       "1. **Content Generation**: Generative AI can be used to create high-quality content such as blog posts, social media posts, product descriptions, and more. Brands like Spotify, Netflix, and The New York Times use generative AI tools to generate original content that saves time and increases productivity.\n",
       "\n",
       "2. **Marketing Automation**: Generative AI can help automate marketing processes by creating personalized campaigns for customers. For example, a brand can use a generative AI model to analyze customer data and generate email or push notifications that are tailored to their needs and preferences. Companies like IBM and Microsoft already leverage generative AI for marketing automation.\n",
       "\n",
       "3. **Data Enrichment**: Generative AI can be used to enrich customer data by generating new fields, such as product preferences or behavioral patterns, based on existing data sources. This creates a richer profile of customers that can help businesses target their offerings more effectively. Brands like Salesforce and HubSpot already use generative AI for data enrichment.\n",
       "\n",
       "4. **Sales Forecasting**: Generative AI can be used to analyze historical sales data, market trends, and other factors to create predictions about future sales performance. This allows sales teams to make more accurate forecasts and adjust their strategies accordingly. Companies like Oracle and SAP are leveraging generative AI for sales forecasting.\n",
       "\n",
       "5. **Language Translation**: Generative AI-powered translation tools have revolutionized the translation industry by enabling real-time translations, machine learning-based improvement of error rates, and even creative content localization (using a model to analyze the style and tone used in an original piece). Brands like Google, Microsoft, and Amazon are already using generative AI for language translation.\n",
       "\n",
       "These examples demonstrate how Generative AI can augment businesses across industries from content creation to data analysis to marketing strategy."
      ],
      "text/plain": [
       "<IPython.core.display.Markdown object>"
      ]
     },
     "metadata": {},
     "output_type": "display_data"
    }
   ],
   "source": [
    "# There's actually an alternative approach that some people might prefer\n",
    "# You can use the OpenAI client python library to call Ollama:\n",
    "\n",
    "from openai import OpenAI\n",
    "\n",
    "ollama_via_openai = OpenAI(base_url=\"http://localhost:11434/v1\", api_key=\"ollama\")\n",
    "\n",
    "response = ollama_via_openai.chat.completions.create(model=MODEL, messages=messages)\n",
    "\n",
    "display(Markdown(response.choices[0].message.content))"
   ]
  },
  {
   "cell_type": "markdown",
   "id": "9f9e22da-b891-41f6-9ac9-bd0c0a5f4f44",
   "metadata": {},
   "source": [
    "### Are you confused about why that works?\n",
    "\n",
    "It seems strange, right? We just used OpenAI code to call Ollama?? What's going on?!\n",
    "\n",
    "Here's the scoop:\n",
    "\n",
    "The python class `OpenAI` is simply code written by OpenAI engineers that makes calls over the internet to an endpoint.\n",
    "\n",
    "When you call `openai.chat.completions.create()`, this python code just makes a web request to the following url: \"https://api.openai.com/v1/chat/completions\"\n",
    "\n",
    "Code like this is known as a \"client library\" - it's just wrapper code that runs on your machine to make web requests. The actual power of GPT is running on OpenAI's cloud behind this API, not on your computer!\n",
    "\n",
    "OpenAI was so popular, that lots of other AI providers provided identical web endpoints, so you could use the same approach.\n",
    "\n",
    "So Ollama has an endpoint running on your local box at http://localhost:11434/v1/chat/completions  \n",
    "And in week 2 we'll discover that lots of other providers do this too, including Gemini and DeepSeek.\n",
    "\n",
    "And then the team at OpenAI had a great idea: they can extend their client library so you can specify a different 'base url', and use their library to call any compatible API.\n",
    "\n",
    "That's it!\n",
    "\n",
    "So when you say: `ollama_via_openai = OpenAI(base_url='http://localhost:11434/v1', api_key='ollama')`  \n",
    "Then this will make the same endpoint calls, but to Ollama instead of OpenAI.\n"
   ]
  },
  {
   "cell_type": "markdown",
   "id": "1622d9bb-5c68-4d4e-9ca4-b492c751f898",
   "metadata": {},
   "source": [
    "## NOW the exercise for you\n",
    "\n",
    "Take the code from day1 and incorporate it here, to build a website summarizer that uses Llama 3.2 running locally instead of OpenAI; use either of the above approaches.\n"
   ]
  },
  {
   "cell_type": "code",
   "execution_count": 17,
   "id": "6de38216-6d1c-48c4-877b-86d403f4e0f8",
   "metadata": {},
   "outputs": [],
   "source": [
    "headers = {\n",
    "    \"User-Agent\": \"Mozilla/5.0 (Windows NT 10.0; Win64; x64) AppleWebKit/537.36 (KHTML, like Gecko) Chrome/117.0.0.0 Safari/537.36\"\n",
    "}\n",
    "\n",
    "\n",
    "class Website:\n",
    "    def __init__(self, url):\n",
    "        \"\"\"\n",
    "        Create this Website object from the given url using the BeautifulSoup library\n",
    "        \"\"\"\n",
    "        self.url = url\n",
    "        response = requests.get(url, headers=headers)\n",
    "        soup = BeautifulSoup(response.content, \"html.parser\")\n",
    "        self.title = soup.title.string if soup.title else \"No title found\"\n",
    "        for irrelevant in soup.body([\"script\", \"style\", \"img\", \"input\"]):\n",
    "            irrelevant.decompose()\n",
    "        self.text = soup.body.get_text(separator=\"\\n\", strip=True)"
   ]
  },
  {
   "cell_type": "code",
   "execution_count": 19,
   "id": "d026f01b",
   "metadata": {},
   "outputs": [],
   "source": [
    "system_prompt = \"You are an assistant that analyzes the contents of a website \\\n",
    "and provides a short summary, ignoring text that might be navigation related. \\\n",
    "Respond in markdown in english.\"\n",
    "\n",
    "\n",
    "def user_prompt_for(website):\n",
    "    user_prompt = f\"You are looking at a website titled {website.title}\"\n",
    "    user_prompt += \"\\nThe contents of this website is as follows; \\\n",
    "please provide a short summary of this website in markdown. \\\n",
    "If it includes news or announcements, then summarize these too.\\n\\n\"\n",
    "    user_prompt += website.text\n",
    "    return user_prompt\n",
    "\n",
    "\n",
    "def messages_for(website):\n",
    "    return [\n",
    "        {\"role\": \"system\", \"content\": system_prompt},\n",
    "        {\"role\": \"user\", \"content\": user_prompt_for(website)},\n",
    "    ]"
   ]
  },
  {
   "cell_type": "code",
   "execution_count": 23,
   "id": "32c636bd",
   "metadata": {},
   "outputs": [],
   "source": [
    "def summarize(url):\n",
    "    website = Website(url)\n",
    "    response = ollama.chat(model=MODEL, messages=messages_for(website))\n",
    "    display(Markdown(response[\"message\"][\"content\"]))"
   ]
  },
  {
   "cell_type": "code",
   "execution_count": 25,
   "id": "6ef0ba3f",
   "metadata": {},
   "outputs": [
    {
     "data": {
      "text/markdown": [
       "# Anthropic Website Summary\n",
       "\n",
       "## Overview\n",
       "\n",
       "Anthropic is a public benefit corporation dedicated to securing the benefits and mitigating the risks of AI. The website provides information on their research, products, and initiatives focused on responsible AI development.\n",
       "\n",
       "## Research and Initiatives\n",
       "\n",
       "* Economic Futures: Explore the economic implications of AI and how Anthropic aims to ensure its benefits are shared equitably.\n",
       "* Commitments: Learn about Anthropic's goals and principles for developing safe and beneficial AI technologies.\n",
       "* Initiatives: Discover projects like Claude, a large language model designed with safety and humanity in mind.\n",
       "\n",
       "## Products and Tools\n",
       "\n",
       "* Claude: A cutting-edge large language model for agents, coding, and computer use. Current versions include Sonnet 4.5 and Opus 4.1.\n",
       "* Claude Console, Code, and Developer Platform: Access the tools needed to build and deploy AI models with safety in mind.\n",
       "\n",
       "## News and Announcements\n",
       "\n",
       "* **Claude Sonnet 4.5**: The latest model version of Claude is now available, boasting improved performance and capabilities.\n",
       "* **Aug 12, 2025: Claude Opus 4.1**: A new update to the Opus model was released, enhancing its functionality and safety features.\n",
       "* **Project Vend**: Explore Anthropic's work on developing AI systems that can make decisions in a way that benefits humanity.\n",
       "* **Agentic Misalignment**: Learn about the alignment of AI goals with human values and how Anthropic addresses this challenge.\n",
       "\n",
       "## Calls to Action\n",
       "\n",
       "* **Join the Future of Safe AI**: Look for open roles at Anthropic and contribute to their mission.\n",
       "* **Try Claude**: Experience the capabilities of Anthropic's cutting-edge language model.\n",
       "\n",
       "## Resources\n",
       "\n",
       "* **Anthropic Academy**: Access courses and resources to learn about building with Claude.\n",
       "* **Developer docs**: Find documentation and guidance on using the Claude Developer Platform."
      ],
      "text/plain": [
       "<IPython.core.display.Markdown object>"
      ]
     },
     "metadata": {},
     "output_type": "display_data"
    }
   ],
   "source": [
    "summarize(\"https://www.anthropic.com\")"
   ]
  }
 ],
 "metadata": {
  "kernelspec": {
   "display_name": "Python 3",
   "language": "python",
   "name": "python3"
  },
  "language_info": {
   "codemirror_mode": {
    "name": "ipython",
    "version": 3
   },
   "file_extension": ".py",
   "mimetype": "text/x-python",
   "name": "python",
   "nbconvert_exporter": "python",
   "pygments_lexer": "ipython3",
   "version": "3.11.13"
  }
 },
 "nbformat": 4,
 "nbformat_minor": 5
}
